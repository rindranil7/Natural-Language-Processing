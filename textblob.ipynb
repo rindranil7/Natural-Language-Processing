{
 "cells": [
  {
   "cell_type": "markdown",
   "metadata": {},
   "source": [
    "# 19MAI0033 BHASWATI"
   ]
  },
  {
   "cell_type": "code",
   "execution_count": 1,
   "metadata": {},
   "outputs": [],
   "source": [
    "from textblob import TextBlob  #importing textblob\n",
    "\n"
   ]
  },
  {
   "cell_type": "code",
   "execution_count": 42,
   "metadata": {},
   "outputs": [],
   "source": [
    "#Let us now create our first textblob\n",
    "text = '''This is the story of the great war that Rikki-tikki-tavi fought single-handed, through the bath-rooms of the big bungalow in Segowlee cantonment. Darzee, the tailor-bird, helped him, and Chuchundra, the m a mongoose, rather like a little cat in his fur and his tail, but quite like a weasel in his head and his habits. His eyes and the end of his restless nose were pink; he could scratch himself anywhere he pleased, with any leg, front or back, that he chose to use; he could fluff up his tail till it looked like a bottle-brush, and his war-cry, as he scuttled through the long grass, was: ``Rikk-tikk-tikki-tikki-tchk!'''''\n",
    "\n",
    "\n",
    "\n",
    "\n"
   ]
  },
  {
   "cell_type": "code",
   "execution_count": 43,
   "metadata": {},
   "outputs": [],
   "source": [
    "blob = TextBlob(text)        \n"
   ]
  },
  {
   "cell_type": "code",
   "execution_count": 44,
   "metadata": {},
   "outputs": [
    {
     "data": {
      "text/plain": [
       "[('This', 'DT'),\n",
       " ('is', 'VBZ'),\n",
       " ('the', 'DT'),\n",
       " ('story', 'NN'),\n",
       " ('of', 'IN'),\n",
       " ('the', 'DT'),\n",
       " ('great', 'JJ'),\n",
       " ('war', 'NN'),\n",
       " ('that', 'IN'),\n",
       " ('Rikki-tikki-tavi', 'NNP'),\n",
       " ('fought', 'VBD'),\n",
       " ('single-handed', 'JJ'),\n",
       " ('through', 'IN'),\n",
       " ('the', 'DT'),\n",
       " ('bath-rooms', 'NNS'),\n",
       " ('of', 'IN'),\n",
       " ('the', 'DT'),\n",
       " ('big', 'JJ'),\n",
       " ('bungalow', 'NN'),\n",
       " ('in', 'IN'),\n",
       " ('Segowlee', 'NNP'),\n",
       " ('cantonment', 'NN'),\n",
       " ('Darzee', 'NNP'),\n",
       " ('the', 'DT'),\n",
       " ('tailor-bird', 'NN'),\n",
       " ('helped', 'VBD'),\n",
       " ('him', 'PRP'),\n",
       " ('and', 'CC'),\n",
       " ('Chuchundra', 'NNP'),\n",
       " ('the', 'DT'),\n",
       " ('m', 'NN'),\n",
       " ('a', 'DT'),\n",
       " ('mongoose', 'NN'),\n",
       " ('rather', 'RB'),\n",
       " ('like', 'IN'),\n",
       " ('a', 'DT'),\n",
       " ('little', 'JJ'),\n",
       " ('cat', 'NN'),\n",
       " ('in', 'IN'),\n",
       " ('his', 'PRP$'),\n",
       " ('fur', 'NN'),\n",
       " ('and', 'CC'),\n",
       " ('his', 'PRP$'),\n",
       " ('tail', 'NN'),\n",
       " ('but', 'CC'),\n",
       " ('quite', 'RB'),\n",
       " ('like', 'IN'),\n",
       " ('a', 'DT'),\n",
       " ('weasel', 'NN'),\n",
       " ('in', 'IN'),\n",
       " ('his', 'PRP$'),\n",
       " ('head', 'NN'),\n",
       " ('and', 'CC'),\n",
       " ('his', 'PRP$'),\n",
       " ('habits', 'NNS'),\n",
       " ('His', 'PRP$'),\n",
       " ('eyes', 'NNS'),\n",
       " ('and', 'CC'),\n",
       " ('the', 'DT'),\n",
       " ('end', 'NN'),\n",
       " ('of', 'IN'),\n",
       " ('his', 'PRP$'),\n",
       " ('restless', 'NN'),\n",
       " ('nose', 'NN'),\n",
       " ('were', 'VBD'),\n",
       " ('pink', 'RB'),\n",
       " ('he', 'PRP'),\n",
       " ('could', 'MD'),\n",
       " ('scratch', 'VB'),\n",
       " ('himself', 'PRP'),\n",
       " ('anywhere', 'RB'),\n",
       " ('he', 'PRP'),\n",
       " ('pleased', 'VBD'),\n",
       " ('with', 'IN'),\n",
       " ('any', 'DT'),\n",
       " ('leg', 'NN'),\n",
       " ('front', 'NN'),\n",
       " ('or', 'CC'),\n",
       " ('back', 'RB'),\n",
       " ('that', 'IN'),\n",
       " ('he', 'PRP'),\n",
       " ('chose', 'VBD'),\n",
       " ('to', 'TO'),\n",
       " ('use', 'VB'),\n",
       " ('he', 'PRP'),\n",
       " ('could', 'MD'),\n",
       " ('fluff', 'VB'),\n",
       " ('up', 'RP'),\n",
       " ('his', 'PRP$'),\n",
       " ('tail', 'NN'),\n",
       " ('till', 'NN'),\n",
       " ('it', 'PRP'),\n",
       " ('looked', 'VBD'),\n",
       " ('like', 'IN'),\n",
       " ('a', 'DT'),\n",
       " ('bottle-brush', 'NN'),\n",
       " ('and', 'CC'),\n",
       " ('his', 'PRP$'),\n",
       " ('war-cry', 'NN'),\n",
       " ('as', 'IN'),\n",
       " ('he', 'PRP'),\n",
       " ('scuttled', 'VBD'),\n",
       " ('through', 'IN'),\n",
       " ('the', 'DT'),\n",
       " ('long', 'JJ'),\n",
       " ('grass', 'NN'),\n",
       " ('was', 'VBD'),\n",
       " ('Rikk-tikk-tikki-tikki-tchk', 'JJ')]"
      ]
     },
     "execution_count": 44,
     "metadata": {},
     "output_type": "execute_result"
    }
   ],
   "source": [
    "blob.tags           #accessing part of speech tags"
   ]
  },
  {
   "cell_type": "markdown",
   "metadata": {},
   "source": [
    "Noun Phrase Extraction"
   ]
  },
  {
   "cell_type": "code",
   "execution_count": 45,
   "metadata": {},
   "outputs": [
    {
     "data": {
      "text/plain": [
       "WordList(['great war', 'rikki-tikki-tavi', 'big bungalow', 'segowlee', 'darzee', 'chuchundra', 'restless nose', 'tail till', 'long grass', 'rikk-tikk-tikki-tikki-tchk'])"
      ]
     },
     "execution_count": 45,
     "metadata": {},
     "output_type": "execute_result"
    }
   ],
   "source": [
    "blob.noun_phrases"
   ]
  },
  {
   "cell_type": "markdown",
   "metadata": {},
   "source": [
    "The sentiment property will return a namedtuple of the form Sentiment.The polarity score is a float value which is from range(-1.0 to + 1.0). \n",
    "\n"
   ]
  },
  {
   "cell_type": "code",
   "execution_count": 46,
   "metadata": {},
   "outputs": [
    {
     "name": "stdout",
     "output_type": "stream",
     "text": [
      "0.4\n",
      "-0.1875\n",
      "0.04750000000000001\n"
     ]
    }
   ],
   "source": [
    "for sentence in blob.sentences:\n",
    "    print(sentence.sentiment.polarity)\n"
   ]
  },
  {
   "cell_type": "code",
   "execution_count": 47,
   "metadata": {},
   "outputs": [
    {
     "name": "stdout",
     "output_type": "stream",
     "text": [
      "Sentiment(polarity=0.04750000000000001, subjectivity=0.4)\n"
     ]
    }
   ],
   "source": [
    "print(sentence.sentiment) #The subjectivity is a float value ranging from [0.0, 1.0] where 0.0 is very objective and 1.0 is very subjective"
   ]
  },
  {
   "cell_type": "markdown",
   "metadata": {},
   "source": [
    "TOKENIZATION(BREAKING THE TEXTBLOB INTO WORDS AND SENTENCES)"
   ]
  },
  {
   "cell_type": "code",
   "execution_count": 48,
   "metadata": {},
   "outputs": [],
   "source": [
    "text1 = '''It was Darzee, the tailor-bird, and his wife. They had made a beautiful nest by pulling two big leaves together and stitching them up the edges with fibres, and had filled the hollow with cotton and downy fluff. The nest swayed to and fro, as they sat on the rim and cried.\n",
    "\n",
    "'''"
   ]
  },
  {
   "cell_type": "code",
   "execution_count": 49,
   "metadata": {},
   "outputs": [
    {
     "name": "stdout",
     "output_type": "stream",
     "text": [
      " Word Tokenize :\n",
      " ['It', 'was', 'Darzee', 'the', 'tailor-bird', 'and', 'his', 'wife', 'They', 'had', 'made', 'a', 'beautiful', 'nest', 'by', 'pulling', 'two', 'big', 'leaves', 'together', 'and', 'stitching', 'them', 'up', 'the', 'edges', 'with', 'fibres', 'and', 'had', 'filled', 'the', 'hollow', 'with', 'cotton', 'and', 'downy', 'fluff', 'The', 'nest', 'swayed', 'to', 'and', 'fro', 'as', 'they', 'sat', 'on', 'the', 'rim', 'and', 'cried']\n"
     ]
    }
   ],
   "source": [
    "blob_object = TextBlob(text1)\n",
    "print(\" Word Tokenize :\\n\", blob_object.words) \n"
   ]
  },
  {
   "cell_type": "code",
   "execution_count": 50,
   "metadata": {},
   "outputs": [
    {
     "name": "stdout",
     "output_type": "stream",
     "text": [
      "\n",
      " Sentence Tokenize :\n",
      " [Sentence(\"It was Darzee, the tailor-bird, and his wife.\"), Sentence(\"They had made a beautiful nest by pulling two big leaves together and stitching them up the edges with fibres, and had filled the hollow with cotton and downy fluff.\"), Sentence(\"The nest swayed to and fro, as they sat on the rim and cried.\")]\n"
     ]
    }
   ],
   "source": [
    "# tokenize paragraph into sentences. \n",
    "print(\"\\n Sentence Tokenize :\\n\", blob_object.sentences) "
   ]
  },
  {
   "cell_type": "markdown",
   "metadata": {},
   "source": [
    "Lemmaatization"
   ]
  },
  {
   "cell_type": "code",
   "execution_count": 51,
   "metadata": {},
   "outputs": [
    {
     "name": "stdout",
     "output_type": "stream",
     "text": [
      "rocks : rock\n",
      "corpora : corpus\n",
      "better : good\n"
     ]
    }
   ],
   "source": [
    "from textblob import Word \n",
    "  \n",
    "# creating a Word object. \n",
    "x = Word(\"rocks\") \n",
    "  \n",
    "# apply lemmatization. \n",
    "print(\"rocks :\", x.lemmatize()) \n",
    "  \n",
    "# creating a Word object. \n",
    "y = Word(\"corpora\") \n",
    "  \n",
    "# apply lemmatization. \n",
    "print(\"corpora :\", y.lemmatize()) \n",
    "  \n",
    "# creating a Word object. \n",
    "z = Word(\"better\") \n",
    "   \n",
    "# apply lemmatization with  \n",
    "# parameter \"a\", \"a\" denotes adjective. \n",
    "print(\"better :\", z.lemmatize(\"a\")) \n"
   ]
  },
  {
   "cell_type": "code",
   "execution_count": 52,
   "metadata": {},
   "outputs": [
    {
     "name": "stdout",
     "output_type": "stream",
     "text": [
      "4\n"
     ]
    }
   ],
   "source": [
    "#word count\n",
    "\n",
    "from textblob import TextBlob \n",
    "  \n",
    "text2 = TextBlob('''His jokes are funny, but sometimes he goes too far. Sometimes I take the bus to work. We all make mistakes sometimes. She works nine hours a day, sometimes more than that''') \n",
    "  \n",
    "# using TextBlob.word_counts() method \n",
    "text2 = text2.word_counts['sometimes'] \n",
    "  \n",
    "print(text2) \n"
   ]
  },
  {
   "cell_type": "markdown",
   "metadata": {},
   "source": [
    "Ngrams to return a list of tuples of n successive words."
   ]
  },
  {
   "cell_type": "code",
   "execution_count": 53,
   "metadata": {},
   "outputs": [
    {
     "data": {
      "text/plain": [
       "[WordList(['Now', 'is']),\n",
       " WordList(['is', 'better']),\n",
       " WordList(['better', 'than']),\n",
       " WordList(['than', 'never'])]"
      ]
     },
     "execution_count": 53,
     "metadata": {},
     "output_type": "execute_result"
    }
   ],
   "source": [
    "\n",
    " \n",
    "text3 = TextBlob(\"Now is better than never.\")\n",
    "text3.ngrams(n=2)\n"
   ]
  },
  {
   "cell_type": "markdown",
   "metadata": {},
   "source": [
    "Language detection and translation using TextBlob"
   ]
  },
  {
   "cell_type": "code",
   "execution_count": 54,
   "metadata": {},
   "outputs": [
    {
     "data": {
      "text/plain": [
       "'fr'"
      ]
     },
     "execution_count": 54,
     "metadata": {},
     "output_type": "execute_result"
    }
   ],
   "source": [
    "b = TextBlob(\"bonjour\")\n",
    "b.detect_language()\n",
    "\n"
   ]
  },
  {
   "cell_type": "code",
   "execution_count": 55,
   "metadata": {},
   "outputs": [
    {
     "data": {
      "text/plain": [
       "TextBlob(\"Buenos dias\")"
      ]
     },
     "execution_count": 55,
     "metadata": {},
     "output_type": "execute_result"
    }
   ],
   "source": [
    "b.translate(to=\"es\")\n"
   ]
  },
  {
   "cell_type": "code",
   "execution_count": 56,
   "metadata": {},
   "outputs": [
    {
     "data": {
      "text/plain": [
       "TextBlob(\"Hello\")"
      ]
     },
     "execution_count": 56,
     "metadata": {},
     "output_type": "execute_result"
    }
   ],
   "source": [
    "b.translate(to=\"en\")\n"
   ]
  },
  {
   "cell_type": "code",
   "execution_count": 57,
   "metadata": {},
   "outputs": [
    {
     "data": {
      "text/plain": [
       "TextBlob(\"By me is Bhaswati.I am from West Bengal.\")"
      ]
     },
     "execution_count": 57,
     "metadata": {},
     "output_type": "execute_result"
    }
   ],
   "source": [
    "blob = TextBlob('My nme is Bhaswati.I am frm West Bengal.')\n",
    "blob.correct()\n"
   ]
  },
  {
   "cell_type": "code",
   "execution_count": null,
   "metadata": {},
   "outputs": [],
   "source": []
  },
  {
   "cell_type": "code",
   "execution_count": null,
   "metadata": {},
   "outputs": [],
   "source": []
  }
 ],
 "metadata": {
  "kernelspec": {
   "display_name": "Python 3",
   "language": "python",
   "name": "python3"
  },
  "language_info": {
   "codemirror_mode": {
    "name": "ipython",
    "version": 3
   },
   "file_extension": ".py",
   "mimetype": "text/x-python",
   "name": "python",
   "nbconvert_exporter": "python",
   "pygments_lexer": "ipython3",
   "version": "3.7.7"
  }
 },
 "nbformat": 4,
 "nbformat_minor": 4
}
